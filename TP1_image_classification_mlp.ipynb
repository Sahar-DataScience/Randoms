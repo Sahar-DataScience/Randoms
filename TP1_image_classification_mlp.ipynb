{
  "nbformat": 4,
  "nbformat_minor": 0,
  "metadata": {
    "kernelspec": {
      "display_name": "Python 3",
      "language": "python",
      "name": "python3"
    },
    "language_info": {
      "codemirror_mode": {
        "name": "ipython",
        "version": 3
      },
      "file_extension": ".py",
      "mimetype": "text/x-python",
      "name": "python",
      "nbconvert_exporter": "python",
      "pygments_lexer": "ipython3",
      "version": "3.6.10"
    },
    "colab": {
      "provenance": [],
      "toc_visible": true,
      "include_colab_link": true
    }
  },
  "cells": [
    {
      "cell_type": "markdown",
      "metadata": {
        "id": "view-in-github",
        "colab_type": "text"
      },
      "source": [
        "<a href=\"https://colab.research.google.com/github/Sahar-DataScience/random/blob/main/TP1_image_classification_mlp.ipynb\" target=\"_parent\"><img src=\"https://colab.research.google.com/assets/colab-badge.svg\" alt=\"Open In Colab\"/></a>"
      ]
    },
    {
      "cell_type": "markdown",
      "metadata": {
        "id": "svQtf0E9eJ6S"
      },
      "source": [
        "### Importation des librairies "
      ]
    },
    {
      "cell_type": "code",
      "metadata": {
        "id": "2g2yhBoFghKg"
      },
      "source": [
        "from numpy import *\n",
        "from numpy.random import *\n",
        "from math import*\n",
        "from matplotlib.pyplot import*\n",
        "from scipy.misc import*\n",
        "import pandas as pd "
      ],
      "execution_count": null,
      "outputs": []
    },
    {
      "cell_type": "code",
      "metadata": {
        "id": "lnigkXGneJ6a"
      },
      "source": [
        "from __future__ import print_function\n",
        "import keras\n",
        "from keras.datasets import mnist\n",
        "from keras.models import Sequential\n",
        "from keras.layers import Dense, Dropout, Activation \n",
        "import matplotlib.pyplot as plt # affichage des images\n",
        "import numpy as np "
      ],
      "execution_count": null,
      "outputs": []
    },
    {
      "cell_type": "markdown",
      "metadata": {
        "id": "V67JCZkmeJ6c"
      },
      "source": [
        "### Chargement de la base de données MNIST des chiffres manuscrits"
      ]
    },
    {
      "cell_type": "code",
      "metadata": {
        "colab": {
          "base_uri": "https://localhost:8080/"
        },
        "id": "1WpZ3lNSeJ6c",
        "outputId": "1fb571c6-49ef-42f6-de9e-d15fce77450e"
      },
      "source": [
        "# chargement de la base mnist (data et labels) et repartition en base d'apprentissage et base de test\n",
        "(x_train, y_train), (x_test, y_test) = mnist.load_data()\n",
        "\n",
        "# Afficher les tailles de x_train et x_test \n",
        "print('x_train shape: ', x_train.shape) # (60000, 28, 28)\n",
        "print('x_test shape: ', x_test.shape) # (10000, , 28)\n",
        "\n",
        "# afficher les tailles de y_train et y_test (vecteurs des labels)\n",
        "print('y_train shape: ', y_train.shape) # (60000, 1)\n",
        "print('y_test shape: ', y_test.shape) # (10000, 1)"
      ],
      "execution_count": null,
      "outputs": [
        {
          "output_type": "stream",
          "text": [
            "x_train shape:  (60000, 28, 28)\n",
            "x_test shape:  (10000, 28, 28)\n",
            "y_train shape:  (60000,)\n",
            "y_test shape:  (10000,)\n"
          ],
          "name": "stdout"
        }
      ]
    },
    {
      "cell_type": "code",
      "metadata": {
        "id": "dJ3qOw2dgARF"
      },
      "source": [
        "#dir(x_train)\n"
      ],
      "execution_count": null,
      "outputs": []
    },
    {
      "cell_type": "markdown",
      "metadata": {
        "id": "rUsZyZjteJ6d"
      },
      "source": [
        "### Affichafge d'une image aléatoirement"
      ]
    },
    {
      "cell_type": "code",
      "metadata": {
        "colab": {
          "base_uri": "https://localhost:8080/",
          "height": 282
        },
        "id": "oXvAYxp5eJ6d",
        "outputId": "00b3b8fc-145c-49a1-bbfd-a520095d4d8b"
      },
      "source": [
        "plt.imshow(x_train[25000])\n",
        "print(y_train[25000])"
      ],
      "execution_count": null,
      "outputs": [
        {
          "output_type": "stream",
          "text": [
            "3\n"
          ],
          "name": "stdout"
        },
        {
          "output_type": "display_data",
          "data": {
            "image/png": "[encoded data removed]",
            "text/plain": [
              "<Figure size 432x288 with 1 Axes>"
            ]
          },
          "metadata": {
            "tags": [],
            "needs_background": "light"
          }
        }
      ]
    },
    {
      "cell_type": "markdown",
      "metadata": {
        "id": "3cEKkc6HeJ6d"
      },
      "source": [
        "### Normaliser les valeurs de \"x_train\" et \"x_test\""
      ]
    },
    {
      "cell_type": "code",
      "metadata": {
        "id": "0v73IjlleJ6e"
      },
      "source": [
        "# convertir x_train et x_test en float pour les normaliser dans l'intervalle [0..1]\n",
        "x_train = x_train.astype('float32')\n",
        "x_test = x_test.astype('float32')\n",
        "x_train /= 255\n",
        "x_test /= 255"
      ],
      "execution_count": null,
      "outputs": []
    },
    {
      "cell_type": "markdown",
      "metadata": {
        "id": "Pwh9h2oWeJ6e"
      },
      "source": [
        "### Normaliser les valeurs de \"x_train\" et \"x_test\""
      ]
    },
    {
      "cell_type": "code",
      "metadata": {
        "colab": {
          "base_uri": "https://localhost:8080/"
        },
        "id": "OONBV8bweJ6e",
        "outputId": "7a3ba825-f689-4b70-ae47-0abf6b0e6195"
      },
      "source": [
        "# Adapter x_train et x_test au format de la couche d'entrée du MLP\n",
        "x_train = x_train.reshape(60000, 28*28 ) # (60000, 784)\n",
        "x_test = x_test.reshape(10000, 28*28) # (10000, 784)\n",
        "\n",
        "print('train samples shape: ', x_train.shape )\n",
        "print('test samples shape: ', x_test.shape)"
      ],
      "execution_count": null,
      "outputs": [
        {
          "output_type": "stream",
          "text": [
            "train samples shape:  (60000, 784)\n",
            "test samples shape:  (10000, 784)\n"
          ],
          "name": "stdout"
        }
      ]
    },
    {
      "cell_type": "markdown",
      "metadata": {
        "id": "Ne-ZUqOneJ6f"
      },
      "source": [
        "### Adapter les vecteurs de labels \"y_train\" et \"y_test\" au formt de la couche de sortie du MLP"
      ]
    },
    {
      "cell_type": "code",
      "metadata": {
        "colab": {
          "base_uri": "https://localhost:8080/"
        },
        "id": "1iQPwmB5eJ6f",
        "outputId": "648da20a-5089-4d3b-f90a-04fc1daed43e"
      },
      "source": [
        "num_classes = 10\n",
        "y_train = keras.utils.to_categorical(y_train, num_classes ) # exemple: le label 5 devient le vecteur [ 0 0 0 0 1 0 0 0 0 0]\n",
        "y_test = keras.utils.to_categorical(y_test, num_classes) # exemple: le label 10 devient le vecteur [ 0 0 0 0 0 0 0 0 0 1]\n",
        "\n",
        "print('y_train shape: ', y_train.shape) # (60000, 10)\n",
        "print('y_test shape: ', y_test.shape) # (10000, 10)"
      ],
      "execution_count": null,
      "outputs": [
        {
          "output_type": "stream",
          "text": [
            "y_train shape:  (60000, 10)\n",
            "y_test shape:  (10000, 10)\n"
          ],
          "name": "stdout"
        }
      ]
    },
    {
      "cell_type": "markdown",
      "metadata": {
        "id": "IvzY4PjaeJ6f"
      },
      "source": [
        "### implementation du MLP"
      ]
    },
    {
      "cell_type": "code",
      "metadata": {
        "colab": {
          "base_uri": "https://localhost:8080/"
        },
        "id": "wTgiSN_1eJ6g",
        "outputId": "d26d952a-6780-40a1-9aa5-c4df6e16a5f6"
      },
      "source": [
        "model = Sequential()\n",
        "\n",
        "# couche cachée 1\n",
        "model.add(Dense( 512 , input_shape=(784,))) # couche fully-connected contenant 512 neurones\n",
        "model.add(Activation('relu')) # couche d'activaton relu\n",
        "model.add(Dropout(0.2)) # dropout avec propbabilité 0.2\n",
        "\n",
        "# couche cachée 2\n",
        "model.add(Dense(512)) # couche Fully-connected contenant 512 neurones\n",
        "model.add(Activation('relu')) # couche activation relu \n",
        "model.add(Dropout(0.2)) # dropout avec probabilité 0.2\n",
        "\n",
        "# couche de sortie\n",
        "model.add(Dense(10)) # nombre de neurones de la couche de sortie est egale au nombre de classes (10)\n",
        "model.add(Activation('softmax')) # softmax permet de convertir les sorties du MLP en probabilitées\n",
        "\n",
        "# Afficher l'architecture du modèle MLP implémenté\n",
        "model.summary()"
      ],
      "execution_count": null,
      "outputs": [
        {
          "output_type": "stream",
          "text": [
            "Model: \"sequential\"\n",
            "_________________________________________________________________\n",
            "Layer (type)                 Output Shape              Param #   \n",
            "=================================================================\n",
            "dense (Dense)                (None, 512)               401920    \n",
            "_________________________________________________________________\n",
            "activation (Activation)      (None, 512)               0         \n",
            "_________________________________________________________________\n",
            "dropout (Dropout)            (None, 512)               0         \n",
            "_________________________________________________________________\n",
            "dense_1 (Dense)              (None, 512)               262656    \n",
            "_________________________________________________________________\n",
            "activation_1 (Activation)    (None, 512)               0         \n",
            "_________________________________________________________________\n",
            "dropout_1 (Dropout)          (None, 512)               0         \n",
            "_________________________________________________________________\n",
            "dense_2 (Dense)              (None, 10)                5130      \n",
            "_________________________________________________________________\n",
            "activation_2 (Activation)    (None, 10)                0         \n",
            "=================================================================\n",
            "Total params: 669,706\n",
            "Trainable params: 669,706\n",
            "Non-trainable params: 0\n",
            "_________________________________________________________________\n"
          ],
          "name": "stdout"
        }
      ]
    },
    {
      "cell_type": "markdown",
      "metadata": {
        "id": "NPv5u2VFeJ6g"
      },
      "source": [
        "### Définir les paramètres d'apprentissage du MLP"
      ]
    },
    {
      "cell_type": "code",
      "metadata": {
        "id": "Wu12wfoReJ6g"
      },
      "source": [
        "# configurer les paramètres du modèle: méthide calcul de l'erreur, optimizer (méthode de mis à jour des poids)\n",
        "model.compile(loss='categorical_crossentropy',\n",
        "              optimizer=keras.optimizers.Adam(lr=0.001, decay=1e-6),\n",
        "              metrics=['accuracy'])"
      ],
      "execution_count": null,
      "outputs": []
    },
    {
      "cell_type": "markdown",
      "metadata": {
        "id": "EUFsGQVfeJ6g"
      },
      "source": [
        "### Apprentissage du modèle MLP"
      ]
    },
    {
      "cell_type": "code",
      "metadata": {
        "colab": {
          "base_uri": "https://localhost:8080/"
        },
        "id": "dVoXRLEWeJ6h",
        "outputId": "9bcafccd-3b18-4906-b113-5d9b6f91109c"
      },
      "source": [
        "epochs=20 # nombre propagation et rétro-propagation de l'erreur dans la phase d'apprentissage \n",
        "batch_size=128 # nombre d'images propagées simultanément dans le modèle MLP\n",
        "model.fit(x_train, y_train,\n",
        "          batch_size=batch_size,\n",
        "          epochs=epochs,\n",
        "          verbose=1,\n",
        "          validation_data=(x_test, y_test))"
      ],
      "execution_count": null,
      "outputs": [
        {
          "output_type": "stream",
          "text": [
            "Epoch 1/20\n",
            "469/469 [==============================] - 8s 17ms/step - loss: 0.2503 - accuracy: 0.9241 - val_loss: 0.1238 - val_accuracy: 0.9642\n",
            "Epoch 2/20\n",
            "469/469 [==============================] - 8s 17ms/step - loss: 0.0987 - accuracy: 0.9696 - val_loss: 0.0847 - val_accuracy: 0.9744\n",
            "Epoch 3/20\n",
            "469/469 [==============================] - 8s 16ms/step - loss: 0.0705 - accuracy: 0.9779 - val_loss: 0.0756 - val_accuracy: 0.9779\n",
            "Epoch 4/20\n",
            "469/469 [==============================] - 8s 16ms/step - loss: 0.0556 - accuracy: 0.9822 - val_loss: 0.0662 - val_accuracy: 0.9798\n",
            "Epoch 5/20\n",
            "469/469 [==============================] - 8s 16ms/step - loss: 0.0440 - accuracy: 0.9861 - val_loss: 0.0703 - val_accuracy: 0.9799\n",
            "Epoch 6/20\n",
            "469/469 [==============================] - 8s 16ms/step - loss: 0.0389 - accuracy: 0.9871 - val_loss: 0.0695 - val_accuracy: 0.9804\n",
            "Epoch 7/20\n",
            "469/469 [==============================] - 8s 16ms/step - loss: 0.0344 - accuracy: 0.9887 - val_loss: 0.0697 - val_accuracy: 0.9807\n",
            "Epoch 8/20\n",
            "469/469 [==============================] - 8s 17ms/step - loss: 0.0295 - accuracy: 0.9902 - val_loss: 0.0756 - val_accuracy: 0.9787\n",
            "Epoch 9/20\n",
            "469/469 [==============================] - 8s 17ms/step - loss: 0.0282 - accuracy: 0.9905 - val_loss: 0.0637 - val_accuracy: 0.9824\n",
            "Epoch 10/20\n",
            "469/469 [==============================] - 8s 17ms/step - loss: 0.0262 - accuracy: 0.9914 - val_loss: 0.0580 - val_accuracy: 0.9835\n",
            "Epoch 11/20\n",
            "469/469 [==============================] - 8s 16ms/step - loss: 0.0212 - accuracy: 0.9925 - val_loss: 0.0691 - val_accuracy: 0.9825\n",
            "Epoch 12/20\n",
            "469/469 [==============================] - 8s 17ms/step - loss: 0.0212 - accuracy: 0.9927 - val_loss: 0.0758 - val_accuracy: 0.9811\n",
            "Epoch 13/20\n",
            "469/469 [==============================] - 8s 16ms/step - loss: 0.0214 - accuracy: 0.9929 - val_loss: 0.0670 - val_accuracy: 0.9833\n",
            "Epoch 14/20\n",
            "469/469 [==============================] - 8s 16ms/step - loss: 0.0190 - accuracy: 0.9934 - val_loss: 0.0810 - val_accuracy: 0.9808\n",
            "Epoch 15/20\n",
            "469/469 [==============================] - 8s 16ms/step - loss: 0.0195 - accuracy: 0.9934 - val_loss: 0.0745 - val_accuracy: 0.9830\n",
            "Epoch 16/20\n",
            "469/469 [==============================] - 8s 17ms/step - loss: 0.0177 - accuracy: 0.9942 - val_loss: 0.0777 - val_accuracy: 0.9825\n",
            "Epoch 17/20\n",
            "469/469 [==============================] - 8s 17ms/step - loss: 0.0161 - accuracy: 0.9944 - val_loss: 0.0796 - val_accuracy: 0.9834\n",
            "Epoch 18/20\n",
            "469/469 [==============================] - 8s 17ms/step - loss: 0.0146 - accuracy: 0.9951 - val_loss: 0.0940 - val_accuracy: 0.9817\n",
            "Epoch 19/20\n",
            "469/469 [==============================] - 8s 16ms/step - loss: 0.0174 - accuracy: 0.9943 - val_loss: 0.0811 - val_accuracy: 0.9824\n",
            "Epoch 20/20\n",
            "469/469 [==============================] - 8s 16ms/step - loss: 0.0164 - accuracy: 0.9948 - val_loss: 0.0825 - val_accuracy: 0.9836\n"
          ],
          "name": "stdout"
        },
        {
          "output_type": "execute_result",
          "data": {
            "text/plain": [
              "<tensorflow.python.keras.callbacks.History at 0x7fd88d372d30>"
            ]
          },
          "metadata": {
            "tags": []
          },
          "execution_count": 18
        }
      ]
    },
    {
      "cell_type": "markdown",
      "metadata": {
        "id": "J8QFdjdIeJ6h"
      },
      "source": [
        "### Evaluation du modèle MLP"
      ]
    },
    {
      "cell_type": "code",
      "metadata": {
        "colab": {
          "base_uri": "https://localhost:8080/"
        },
        "id": "yWkiE7sLeJ6h",
        "outputId": "b9e41572-023e-4561-af11-fa0c19d63189"
      },
      "source": [
        "# affichage du résultat\n",
        "score = model.evaluate(x_test, y_test, verbose=0)\n",
        "print('Test loss:', score[0])\n",
        "print('Test accuracy:', score[1])"
      ],
      "execution_count": null,
      "outputs": [
        {
          "output_type": "stream",
          "text": [
            "Test loss: 0.08251955360174179\n",
            "Test accuracy: 0.9836000204086304\n"
          ],
          "name": "stdout"
        }
      ]
    },
    {
      "cell_type": "markdown",
      "metadata": {
        "id": "F4JAWPnzeJ6h"
      },
      "source": [
        "### Tester un échantillon aléatoirement"
      ]
    },
    {
      "cell_type": "code",
      "metadata": {
        "colab": {
          "base_uri": "https://localhost:8080/",
          "height": 282
        },
        "id": "_nUmGnQDeJ6i",
        "outputId": "030361f6-0620-4b8b-898a-f995aeb85567"
      },
      "source": [
        "# Tester un echantillon de x_test \n",
        "nb_echantillon=3890\n",
        "img_test=np.expand_dims(x_test[nb_echantillon], axis=0)\n",
        "output=model.predict(img_test) \n",
        "plt.imshow(img_test.reshape(28, 28))\n",
        "print('L''image contient le chiffre:', np.argmax(output))"
      ],
      "execution_count": null,
      "outputs": [
        {
          "output_type": "stream",
          "text": [
            "Limage contient le chiffre: 5\n"
          ],
          "name": "stdout"
        },
        {
          "output_type": "display_data",
          "data": {
            "image/png": "[encoded data removed]",
            "text/plain": [
              "<Figure size 432x288 with 1 Axes>"
            ]
          },
          "metadata": {
            "tags": [],
            "needs_background": "light"
          }
        }
      ]
    }
  ]
}